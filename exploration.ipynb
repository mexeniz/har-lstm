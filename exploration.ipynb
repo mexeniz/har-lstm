{
 "cells": [
  {
   "cell_type": "markdown",
   "id": "806f3455",
   "metadata": {},
   "source": [
    "# Explore Activity Data"
   ]
  },
  {
   "cell_type": "code",
   "execution_count": null,
   "id": "9f278686",
   "metadata": {},
   "outputs": [],
   "source": [
    "import os\n",
    "import re\n",
    "\n",
    "from IPython.display import clear_output\n",
    "import matplotlib.pyplot as plt\n",
    "import ipywidgets as widgets\n",
    "from ipywidgets import interact, interact_manual\n",
    "import pandas as pd\n",
    "import numpy as np\n",
    "import seaborn as sns\n",
    "import altair as alt\n",
    "\n",
    "from utils import FeatUtils\n",
    "from chart import plot_feat_chart\n",
    "\n",
    "%load_ext autoreload\n",
    "%autoreload 2\n",
    "%matplotlib inline\n",
    "\n",
    "sns.set_theme(style=\"dark\")"
   ]
  },
  {
   "cell_type": "code",
   "execution_count": null,
   "id": "4c495cc9",
   "metadata": {},
   "outputs": [],
   "source": [
    "prefix = \"./data/\"\n",
    "group = \"train\"\n",
    "X, y = FeatUtils.load_dataset_group(group, prefix)\n",
    "\n",
    "# Show class stat\n",
    "n_row = len(y)\n",
    "for i in np.unique(y):\n",
    "    n_label = len(y.loc[y[\"label\"] == i])\n",
    "    print(f\"Class {i}: {n_label} rows {(n_label / n_row) * 100}%\")"
   ]
  },
  {
   "cell_type": "code",
   "execution_count": null,
   "id": "e1e4c884",
   "metadata": {},
   "outputs": [],
   "source": [
    "idx = 120\n",
    "row = X.iloc[idx]\n",
    "label = y.iloc[idx].values[0]\n",
    "plot_feat_chart(row, label)"
   ]
  },
  {
   "cell_type": "code",
   "execution_count": null,
   "id": "d75603a2",
   "metadata": {},
   "outputs": [],
   "source": [
    "split_frac = 0.8\n",
    "X_train, X_valid, X_test, y_train, y_valid, y_test = FeatUtils.make_train_valid_test_feature(\n",
    "    X, y, prep_func=None, split_frac=split_frac)\n",
    "## print out the shapes of your resultant feature data\n",
    "print(\"Train set:\", X_train.shape)\n",
    "print(\"Validation set:\", X_valid.shape)\n",
    "print(\"Test set:\", X_test.shape)"
   ]
  },
  {
   "cell_type": "markdown",
   "id": "e7fd7fcd",
   "metadata": {},
   "source": [
    "## Select features by an index and plot them"
   ]
  },
  {
   "cell_type": "code",
   "execution_count": null,
   "id": "e18bdccf",
   "metadata": {},
   "outputs": [],
   "source": [
    "def explore_feature(index):\n",
    "    row = X.iloc[index]\n",
    "    label = y.iloc[index].values[0]\n",
    "    plot_feat_chart(row, label)"
   ]
  },
  {
   "cell_type": "code",
   "execution_count": null,
   "id": "ad35294e",
   "metadata": {},
   "outputs": [],
   "source": [
    "index_slider = widgets.IntSlider(\n",
    "    value=0,\n",
    "    min=0,\n",
    "    max=len(X),\n",
    "    step=1,\n",
    "    orientation='horizontal',\n",
    "    style = {\"description_width\": \"initial\"},\n",
    "    layout={\"width\": \"50%\"},\n",
    "    continuous_update=False,\n",
    ")\n",
    "interact(explore_feature, index=index_slider)"
   ]
  }
 ],
 "metadata": {
  "kernelspec": {
   "display_name": "Python 3 (ipykernel)",
   "language": "python",
   "name": "python3"
  },
  "language_info": {
   "codemirror_mode": {
    "name": "ipython",
    "version": 3
   },
   "file_extension": ".py",
   "mimetype": "text/x-python",
   "name": "python",
   "nbconvert_exporter": "python",
   "pygments_lexer": "ipython3",
   "version": "3.9.9"
  }
 },
 "nbformat": 4,
 "nbformat_minor": 5
}
