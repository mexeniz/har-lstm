{
 "cells": [
  {
   "cell_type": "markdown",
   "id": "b7f8fdbf",
   "metadata": {},
   "source": [
    "# Train LSTM Model Manually"
   ]
  },
  {
   "cell_type": "code",
   "execution_count": null,
   "id": "bb8bba59",
   "metadata": {},
   "outputs": [],
   "source": [
    "from sklearn.metrics import accuracy_score, precision_recall_fscore_support\n",
    "import torch\n",
    "from torch import nn\n",
    "\n",
    "from models import HarLSTM, ModelUtils\n",
    "from pl_data import HarDataModule\n",
    "from utils import FeatUtils\n",
    "\n",
    "%load_ext autoreload\n",
    "%autoreload 2"
   ]
  },
  {
   "cell_type": "markdown",
   "id": "69ae41b2",
   "metadata": {},
   "source": [
    "# 1. Prepare features"
   ]
  },
  {
   "cell_type": "code",
   "execution_count": null,
   "id": "41e4e3a0",
   "metadata": {},
   "outputs": [],
   "source": [
    "data_dir_path = \"./data/har_dataset\"\n",
    "norm_method = \"std\"\n",
    "batch_size = 16\n",
    "data_module = HarDataModule(data_dir_path, \n",
    "                            batch_size=batch_size,\n",
    "                           normalize=norm_method)"
   ]
  },
  {
   "cell_type": "markdown",
   "id": "99b930d4",
   "metadata": {},
   "source": [
    "# 2. Define model structure and parameters"
   ]
  },
  {
   "cell_type": "code",
   "execution_count": null,
   "id": "5adc1a1d",
   "metadata": {},
   "outputs": [],
   "source": [
    "# Check if GPU is available\n",
    "use_gpu = torch.cuda.is_available()\n",
    "if(use_gpu):\n",
    "    print('Training on GPU!')\n",
    "else: \n",
    "    print('No GPU available, training on CPU; consider making n_epochs very small.')"
   ]
  },
  {
   "cell_type": "code",
   "execution_count": null,
   "id": "76c25ce2",
   "metadata": {},
   "outputs": [],
   "source": [
    "# Instantiate the model with hyperparams\n",
    "input_size = 9\n",
    "output_size = 6\n",
    "n_hidden = 128\n",
    "n_layers = 2\n",
    "\n",
    "# Training params\n",
    "epochs = 50\n",
    "lr = 0.0001\n",
    "\n",
    "net = HarLSTM(input_size, output_size, n_hidden=n_hidden, n_layers=n_layers)\n",
    "\n",
    "print(\"Model information:\")\n",
    "print(net)\n",
    "\n",
    "# Define loss and optimization functions\n",
    "criterion = nn.CrossEntropyLoss()\n",
    "optimizer = torch.optim.Adam(net.parameters(), lr=lr)"
   ]
  },
  {
   "cell_type": "markdown",
   "id": "8ee311ef",
   "metadata": {},
   "source": [
    "# 3. Train the model"
   ]
  },
  {
   "cell_type": "code",
   "execution_count": null,
   "id": "d0f93df9",
   "metadata": {},
   "outputs": [],
   "source": [
    "train_loader = data_module.train_dataloader()\n",
    "val_loader = data_module.val_dataloader()\n",
    "train_stat_dict = ModelUtils.train_net(net, criterion, optimizer, train_loader, val_loader, batch_size, epochs, \n",
    "                            use_gpu=use_gpu, print_every=100, clip=5)"
   ]
  },
  {
   "cell_type": "code",
   "execution_count": null,
   "id": "62b2a957",
   "metadata": {},
   "outputs": [],
   "source": [
    "ModelUtils.plot_loss_chart(train_stat_dict)"
   ]
  },
  {
   "cell_type": "code",
   "execution_count": null,
   "id": "767e8aec",
   "metadata": {},
   "outputs": [],
   "source": [
    "# Save a model\n",
    "model_path = f\"har_lstm_{batch_size}_ep{epochs}_{norm_method}.pt\"\n",
    "torch.save(net, model_path)"
   ]
  },
  {
   "cell_type": "markdown",
   "id": "f39e039d",
   "metadata": {},
   "source": [
    "# 4. Test inference by a loaded model"
   ]
  },
  {
   "cell_type": "code",
   "execution_count": null,
   "id": "703acd74",
   "metadata": {},
   "outputs": [],
   "source": [
    "loaded_net = torch.load(model_path, map_location=\"cpu\")"
   ]
  },
  {
   "cell_type": "code",
   "execution_count": null,
   "id": "4ced122b",
   "metadata": {},
   "outputs": [],
   "source": [
    "test_loader = data_module.test_dataloader()\n",
    "test_loss, test_labels, preds = ModelUtils.test_net(loaded_net, loaded_net.criterion, test_loader, batch_size, use_gpu=use_gpu)"
   ]
  },
  {
   "cell_type": "code",
   "execution_count": null,
   "id": "aadbc468",
   "metadata": {},
   "outputs": [],
   "source": [
    "acc = accuracy_score(test_labels, preds)\n",
    "prec, recall, f1, _ = precision_recall_fscore_support(test_labels, preds, average=\"macro\")"
   ]
  },
  {
   "cell_type": "code",
   "execution_count": null,
   "id": "d0b1a7ef",
   "metadata": {},
   "outputs": [],
   "source": [
    "print(f\"accuracy: {acc}\")\n",
    "print(f\"precision: {prec}\")\n",
    "print(f\"recall: {recall}\")\n",
    "print(f\"f1: {f1}\")"
   ]
  }
 ],
 "metadata": {
  "kernelspec": {
   "display_name": "Python 3 (ipykernel)",
   "language": "python",
   "name": "python3"
  },
  "language_info": {
   "codemirror_mode": {
    "name": "ipython",
    "version": 3
   },
   "file_extension": ".py",
   "mimetype": "text/x-python",
   "name": "python",
   "nbconvert_exporter": "python",
   "pygments_lexer": "ipython3",
   "version": "3.9.12"
  }
 },
 "nbformat": 4,
 "nbformat_minor": 5
}
